{
 "cells": [
  {
   "cell_type": "markdown",
   "metadata": {},
   "source": [
    "# Quora Question Pairs - Kaggle Competition (Part I)"
   ]
  },
  {
   "cell_type": "markdown",
   "metadata": {},
   "source": [
    "This competition was launched in March 2017 by Quora, hosted by Kaggle. Quora is a place to gain and share knowledge — about anything. It’s a platform to ask questions and connect with people who contribute unique insights and quality answers. This empowers people to learn from each other and to better understand the world.\n",
    "\n",
    "Over 100 million people visit Quora every month, so it's no surprise that many people ask similarly worded questions. Multiple questions with the same intent can cause seekers to spend more time finding the best answer to their question, and make writers feel they need to answer multiple versions of the same question. Quora values canonical questions because they provide a better experience to active seekers and writers, and offer more value to both of these groups in the long term. So, the goal of this competition is to predict which of the provided pairs of questions contain two questions with the same meaning. \n",
    "\n",
    "**In this notebook, things I will be look at include:** \n",
    "\n",
    "- Exploration of training dataset \n",
    "- Performance of naive predictor \n",
    "- Basic feature extraction and benchmark model building\n"
   ]
  },
  {
   "cell_type": "code",
   "execution_count": 1,
   "metadata": {
    "collapsed": true
   },
   "outputs": [],
   "source": [
    "import numpy as np\n",
    "import pandas as pd\n",
    "import matplotlib.pyplot as plt\n",
    "import seaborn as sns\n",
    "%matplotlib inline\n",
    "\n",
    "import warnings\n",
    "warnings.filterwarnings('ignore')"
   ]
  },
  {
   "cell_type": "markdown",
   "metadata": {},
   "source": [
    "## 1. Data Exploration"
   ]
  },
  {
   "cell_type": "markdown",
   "metadata": {},
   "source": [
    "### `train.csv`"
   ]
  },
  {
   "cell_type": "code",
   "execution_count": 2,
   "metadata": {
    "collapsed": false
   },
   "outputs": [
    {
     "name": "stdout",
     "output_type": "stream",
     "text": [
      "The training dataset has 404290 rows and 6 columns\n"
     ]
    },
    {
     "data": {
      "text/html": [
       "<div>\n",
       "<table border=\"1\" class=\"dataframe\">\n",
       "  <thead>\n",
       "    <tr style=\"text-align: right;\">\n",
       "      <th></th>\n",
       "      <th>id</th>\n",
       "      <th>qid1</th>\n",
       "      <th>qid2</th>\n",
       "      <th>question1</th>\n",
       "      <th>question2</th>\n",
       "      <th>is_duplicate</th>\n",
       "    </tr>\n",
       "  </thead>\n",
       "  <tbody>\n",
       "    <tr>\n",
       "      <th>0</th>\n",
       "      <td>0</td>\n",
       "      <td>1</td>\n",
       "      <td>2</td>\n",
       "      <td>What is the step by step guide to invest in sh...</td>\n",
       "      <td>What is the step by step guide to invest in sh...</td>\n",
       "      <td>0</td>\n",
       "    </tr>\n",
       "    <tr>\n",
       "      <th>1</th>\n",
       "      <td>1</td>\n",
       "      <td>3</td>\n",
       "      <td>4</td>\n",
       "      <td>What is the story of Kohinoor (Koh-i-Noor) Dia...</td>\n",
       "      <td>What would happen if the Indian government sto...</td>\n",
       "      <td>0</td>\n",
       "    </tr>\n",
       "    <tr>\n",
       "      <th>2</th>\n",
       "      <td>2</td>\n",
       "      <td>5</td>\n",
       "      <td>6</td>\n",
       "      <td>How can I increase the speed of my internet co...</td>\n",
       "      <td>How can Internet speed be increased by hacking...</td>\n",
       "      <td>0</td>\n",
       "    </tr>\n",
       "    <tr>\n",
       "      <th>3</th>\n",
       "      <td>3</td>\n",
       "      <td>7</td>\n",
       "      <td>8</td>\n",
       "      <td>Why am I mentally very lonely? How can I solve...</td>\n",
       "      <td>Find the remainder when [math]23^{24}[/math] i...</td>\n",
       "      <td>0</td>\n",
       "    </tr>\n",
       "    <tr>\n",
       "      <th>4</th>\n",
       "      <td>4</td>\n",
       "      <td>9</td>\n",
       "      <td>10</td>\n",
       "      <td>Which one dissolve in water quikly sugar, salt...</td>\n",
       "      <td>Which fish would survive in salt water?</td>\n",
       "      <td>0</td>\n",
       "    </tr>\n",
       "  </tbody>\n",
       "</table>\n",
       "</div>"
      ],
      "text/plain": [
       "   id  qid1  qid2                                          question1  \\\n",
       "0   0     1     2  What is the step by step guide to invest in sh...   \n",
       "1   1     3     4  What is the story of Kohinoor (Koh-i-Noor) Dia...   \n",
       "2   2     5     6  How can I increase the speed of my internet co...   \n",
       "3   3     7     8  Why am I mentally very lonely? How can I solve...   \n",
       "4   4     9    10  Which one dissolve in water quikly sugar, salt...   \n",
       "\n",
       "                                           question2  is_duplicate  \n",
       "0  What is the step by step guide to invest in sh...             0  \n",
       "1  What would happen if the Indian government sto...             0  \n",
       "2  How can Internet speed be increased by hacking...             0  \n",
       "3  Find the remainder when [math]23^{24}[/math] i...             0  \n",
       "4            Which fish would survive in salt water?             0  "
      ]
     },
     "execution_count": 2,
     "metadata": {},
     "output_type": "execute_result"
    }
   ],
   "source": [
    "data = pd.read_csv('./data/train.csv')\n",
    "print(\"The training dataset has {} rows and {} columns\".format(*data.shape))\n",
    "data.head()"
   ]
  },
  {
   "cell_type": "code",
   "execution_count": 4,
   "metadata": {
    "collapsed": false
   },
   "outputs": [
    {
     "name": "stdout",
     "output_type": "stream",
     "text": [
      "Example question pair:\n",
      "Question 1: How can I convert raw files to JPEG in photos in a MacBook?\n",
      "Question 2: How do you convert raw files to JPEG?\n",
      "Duplicaets?: 0\n",
      "\n",
      "Example question pair:\n",
      "Question 1: How do you recharge a AA battery?\n",
      "Question 2: How can you recharge regular AA batteries?\n",
      "Duplicaets?: 1\n",
      "\n",
      "Example question pair:\n",
      "Question 1: What are the best sites to download movies?\n",
      "Question 2: Which are best sites to download movies?\n",
      "Duplicaets?: 1\n"
     ]
    }
   ],
   "source": [
    "# review some sample pairs\n",
    "print(\"Example question pair:\")\n",
    "print(\"Question 1: {}\".format(data.question1[1000]))\n",
    "print(\"Question 2: {}\".format(data.question2[1000]))\n",
    "print(\"Duplicaets?: {}\".format(data.is_duplicate[1000]))\n",
    "\n",
    "print(\"\\nExample question pair:\")\n",
    "print(\"Question 1: {}\".format(data.question1[5000]))\n",
    "print(\"Question 2: {}\".format(data.question2[5000]))\n",
    "print(\"Duplicaets?: {}\".format(data.is_duplicate[5000]))\n",
    "\n",
    "print(\"\\nExample question pair:\")\n",
    "print(\"Question 1: {}\".format(data.question1[15000]))\n",
    "print(\"Question 2: {}\".format(data.question2[15000]))\n",
    "print(\"Duplicaets?: {}\".format(data.is_duplicate[15000]))"
   ]
  },
  {
   "cell_type": "markdown",
   "metadata": {},
   "source": [
    "*Note:* the labels have been supplied by human expert. 0 - not duplicate, 1 - duplicate"
   ]
  },
  {
   "cell_type": "code",
   "execution_count": 5,
   "metadata": {
    "collapsed": false,
    "scrolled": false
   },
   "outputs": [
    {
     "data": {
      "text/plain": [
       "id              0\n",
       "qid1            0\n",
       "qid2            0\n",
       "question1       0\n",
       "question2       2\n",
       "is_duplicate    0\n",
       "dtype: int64"
      ]
     },
     "execution_count": 5,
     "metadata": {},
     "output_type": "execute_result"
    }
   ],
   "source": [
    "# are there null values?\n",
    "pd.isnull(data).sum()"
   ]
  },
  {
   "cell_type": "markdown",
   "metadata": {},
   "source": [
    "*There are two rows with question 2 being null.*"
   ]
  },
  {
   "cell_type": "code",
   "execution_count": 6,
   "metadata": {
    "collapsed": false
   },
   "outputs": [
    {
     "data": {
      "text/html": [
       "<div>\n",
       "<table border=\"1\" class=\"dataframe\">\n",
       "  <thead>\n",
       "    <tr style=\"text-align: right;\">\n",
       "      <th></th>\n",
       "      <th>id</th>\n",
       "      <th>qid1</th>\n",
       "      <th>qid2</th>\n",
       "      <th>question1</th>\n",
       "      <th>question2</th>\n",
       "      <th>is_duplicate</th>\n",
       "    </tr>\n",
       "  </thead>\n",
       "  <tbody>\n",
       "    <tr>\n",
       "      <th>105780</th>\n",
       "      <td>105780</td>\n",
       "      <td>174363</td>\n",
       "      <td>174364</td>\n",
       "      <td>How can I develop android app?</td>\n",
       "      <td>NaN</td>\n",
       "      <td>0</td>\n",
       "    </tr>\n",
       "    <tr>\n",
       "      <th>201841</th>\n",
       "      <td>201841</td>\n",
       "      <td>303951</td>\n",
       "      <td>174364</td>\n",
       "      <td>How can I create an Android app?</td>\n",
       "      <td>NaN</td>\n",
       "      <td>0</td>\n",
       "    </tr>\n",
       "  </tbody>\n",
       "</table>\n",
       "</div>"
      ],
      "text/plain": [
       "            id    qid1    qid2                         question1 question2  \\\n",
       "105780  105780  174363  174364    How can I develop android app?       NaN   \n",
       "201841  201841  303951  174364  How can I create an Android app?       NaN   \n",
       "\n",
       "        is_duplicate  \n",
       "105780             0  \n",
       "201841             0  "
      ]
     },
     "execution_count": 6,
     "metadata": {},
     "output_type": "execute_result"
    }
   ],
   "source": [
    "# Look at the null entries\n",
    "data[pd.isnull(data['question2'])]"
   ]
  },
  {
   "cell_type": "code",
   "execution_count": 7,
   "metadata": {
    "collapsed": true
   },
   "outputs": [],
   "source": [
    "# remove the null entries\n",
    "data = data[~pd.isnull(data['question2'])]"
   ]
  },
  {
   "cell_type": "code",
   "execution_count": 7,
   "metadata": {
    "collapsed": true
   },
   "outputs": [],
   "source": [
    "data.to_csv('./data/train_no_null.csv', index=False)"
   ]
  },
  {
   "cell_type": "code",
   "execution_count": 8,
   "metadata": {
    "collapsed": false
   },
   "outputs": [
    {
     "name": "stdout",
     "output_type": "stream",
     "text": [
      "Number of pairs with the same question (qid1=qid2 in a pair): 0\n",
      "Number of duplicated pairs (with the same qid combination): 0\n"
     ]
    }
   ],
   "source": [
    "# Some other things to check:\n",
    "# 1. are there pairs with the same question (qid1 = qid2 in a pair)?\n",
    "print(\"Number of pairs with the same question (qid1=qid2 in a pair): \\\n",
    "{}\".format(len([(q1, q2) for (q1, q2) in zip(data.qid1, data.qid2) if q1 == q2])))\n",
    "\n",
    "# 2. are there duplicated pairs? \n",
    "qid_pairs = [(q1, q2) for (q1, q2) in zip(data.qid1, data.qid2)]\n",
    "qid_pairs_reverse = [(q2, q1) for (q1, q2) in zip(data.qid1, data.qid2)]\n",
    "print(\"Number of duplicated pairs (with the same qid combination): \\\n",
    "{}\".format(len(qid_pairs + qid_pairs_reverse) - len(set(qid_pairs + qid_pairs_reverse))))"
   ]
  },
  {
   "cell_type": "markdown",
   "metadata": {},
   "source": [
    "*Good. No duplicated pairs or pairs with the same question.*"
   ]
  },
  {
   "cell_type": "code",
   "execution_count": 9,
   "metadata": {
    "collapsed": false
   },
   "outputs": [
    {
     "name": "stdout",
     "output_type": "stream",
     "text": [
      "The percentage of duplicated question pairs: 36.92%\n"
     ]
    },
    {
     "data": {
      "image/png": "[encoded data removed]",
      "text/plain": [
       "<matplotlib.figure.Figure at 0x10644e4e0>"
      ]
     },
     "metadata": {},
     "output_type": "display_data"
    }
   ],
   "source": [
    "# class distribution: duplicated questions (with 1 for label 'is_duplicate') in the training set\n",
    "total_pairs = data.shape[0]\n",
    "duplicated_pairs = data.is_duplicate.sum()\n",
    "duplicates_pct = 100 * duplicated_pairs/total_pairs\n",
    "print(\"The percentage of duplicated question pairs: {:.2f}%\".format(duplicates_pct))\n",
    "\n",
    "# plot countplot\n",
    "sns.countplot(x = 'is_duplicate', data = data);"
   ]
  },
  {
   "cell_type": "markdown",
   "metadata": {
    "collapsed": true
   },
   "source": [
    "*In the over 400,000 training examples, around 36% of the question pairs are duplicated.* "
   ]
  },
  {
   "cell_type": "markdown",
   "metadata": {},
   "source": [
    "### `test.csv`\n",
    "*Note*: Kaggle has supplemented the test set with computer-generated question pairs. "
   ]
  },
  {
   "cell_type": "code",
   "execution_count": 10,
   "metadata": {
    "collapsed": false,
    "scrolled": true
   },
   "outputs": [
    {
     "name": "stdout",
     "output_type": "stream",
     "text": [
      "The training dataset has 2345796 rows and 3 columns\n"
     ]
    },
    {
     "data": {
      "text/html": [
       "<div>\n",
       "<table border=\"1\" class=\"dataframe\">\n",
       "  <thead>\n",
       "    <tr style=\"text-align: right;\">\n",
       "      <th></th>\n",
       "      <th>test_id</th>\n",
       "      <th>question1</th>\n",
       "      <th>question2</th>\n",
       "    </tr>\n",
       "  </thead>\n",
       "  <tbody>\n",
       "    <tr>\n",
       "      <th>0</th>\n",
       "      <td>0</td>\n",
       "      <td>How does the Surface Pro himself 4 compare wit...</td>\n",
       "      <td>Why did Microsoft choose core m3 and not core ...</td>\n",
       "    </tr>\n",
       "    <tr>\n",
       "      <th>1</th>\n",
       "      <td>1</td>\n",
       "      <td>Should I have a hair transplant at age 24? How...</td>\n",
       "      <td>How much cost does hair transplant require?</td>\n",
       "    </tr>\n",
       "    <tr>\n",
       "      <th>2</th>\n",
       "      <td>2</td>\n",
       "      <td>What but is the best way to send money from Ch...</td>\n",
       "      <td>What you send money to China?</td>\n",
       "    </tr>\n",
       "    <tr>\n",
       "      <th>3</th>\n",
       "      <td>3</td>\n",
       "      <td>Which food not emulsifiers?</td>\n",
       "      <td>What foods fibre?</td>\n",
       "    </tr>\n",
       "    <tr>\n",
       "      <th>4</th>\n",
       "      <td>4</td>\n",
       "      <td>How \"aberystwyth\" start reading?</td>\n",
       "      <td>How their can I start reading?</td>\n",
       "    </tr>\n",
       "  </tbody>\n",
       "</table>\n",
       "</div>"
      ],
      "text/plain": [
       "   test_id                                          question1  \\\n",
       "0        0  How does the Surface Pro himself 4 compare wit...   \n",
       "1        1  Should I have a hair transplant at age 24? How...   \n",
       "2        2  What but is the best way to send money from Ch...   \n",
       "3        3                        Which food not emulsifiers?   \n",
       "4        4                   How \"aberystwyth\" start reading?   \n",
       "\n",
       "                                           question2  \n",
       "0  Why did Microsoft choose core m3 and not core ...  \n",
       "1        How much cost does hair transplant require?  \n",
       "2                      What you send money to China?  \n",
       "3                                  What foods fibre?  \n",
       "4                     How their can I start reading?  "
      ]
     },
     "execution_count": 10,
     "metadata": {},
     "output_type": "execute_result"
    }
   ],
   "source": [
    "test = pd.read_csv('./data/test.csv')\n",
    "print(\"The training dataset has {} rows and {} columns\".format(*test.shape))\n",
    "test.head()"
   ]
  },
  {
   "cell_type": "code",
   "execution_count": 11,
   "metadata": {
    "collapsed": false
   },
   "outputs": [
    {
     "data": {
      "text/plain": [
       "test_id      0\n",
       "question1    2\n",
       "question2    4\n",
       "dtype: int64"
      ]
     },
     "execution_count": 11,
     "metadata": {},
     "output_type": "execute_result"
    }
   ],
   "source": [
    "# are there null values?\n",
    "pd.isnull(test).sum()"
   ]
  },
  {
   "cell_type": "code",
   "execution_count": 12,
   "metadata": {
    "collapsed": false
   },
   "outputs": [
    {
     "data": {
      "text/html": [
       "<div>\n",
       "<table border=\"1\" class=\"dataframe\">\n",
       "  <thead>\n",
       "    <tr style=\"text-align: right;\">\n",
       "      <th></th>\n",
       "      <th>test_id</th>\n",
       "      <th>question1</th>\n",
       "      <th>question2</th>\n",
       "    </tr>\n",
       "  </thead>\n",
       "  <tbody>\n",
       "    <tr>\n",
       "      <th>1046690</th>\n",
       "      <td>1046690</td>\n",
       "      <td>NaN</td>\n",
       "      <td>How I what can learn android app development?</td>\n",
       "    </tr>\n",
       "    <tr>\n",
       "      <th>1461432</th>\n",
       "      <td>1461432</td>\n",
       "      <td>NaN</td>\n",
       "      <td>How distinct can learn android app development?</td>\n",
       "    </tr>\n",
       "  </tbody>\n",
       "</table>\n",
       "</div>"
      ],
      "text/plain": [
       "         test_id question1                                        question2\n",
       "1046690  1046690       NaN    How I what can learn android app development?\n",
       "1461432  1461432       NaN  How distinct can learn android app development?"
      ]
     },
     "execution_count": 12,
     "metadata": {},
     "output_type": "execute_result"
    }
   ],
   "source": [
    "# rows with question 1 being null\n",
    "test[pd.isnull(test['question1'])]"
   ]
  },
  {
   "cell_type": "code",
   "execution_count": 13,
   "metadata": {
    "collapsed": false
   },
   "outputs": [
    {
     "data": {
      "text/html": [
       "<div>\n",
       "<table border=\"1\" class=\"dataframe\">\n",
       "  <thead>\n",
       "    <tr style=\"text-align: right;\">\n",
       "      <th></th>\n",
       "      <th>test_id</th>\n",
       "      <th>question1</th>\n",
       "      <th>question2</th>\n",
       "    </tr>\n",
       "  </thead>\n",
       "  <tbody>\n",
       "    <tr>\n",
       "      <th>379205</th>\n",
       "      <td>379205</td>\n",
       "      <td>How I can learn android app development?</td>\n",
       "      <td>NaN</td>\n",
       "    </tr>\n",
       "    <tr>\n",
       "      <th>817520</th>\n",
       "      <td>817520</td>\n",
       "      <td>How real can learn android app development?</td>\n",
       "      <td>NaN</td>\n",
       "    </tr>\n",
       "    <tr>\n",
       "      <th>943911</th>\n",
       "      <td>943911</td>\n",
       "      <td>How app development?</td>\n",
       "      <td>NaN</td>\n",
       "    </tr>\n",
       "    <tr>\n",
       "      <th>1270024</th>\n",
       "      <td>1270024</td>\n",
       "      <td>How I can learn app development?</td>\n",
       "      <td>NaN</td>\n",
       "    </tr>\n",
       "  </tbody>\n",
       "</table>\n",
       "</div>"
      ],
      "text/plain": [
       "         test_id                                    question1 question2\n",
       "379205    379205     How I can learn android app development?       NaN\n",
       "817520    817520  How real can learn android app development?       NaN\n",
       "943911    943911                         How app development?       NaN\n",
       "1270024  1270024             How I can learn app development?       NaN"
      ]
     },
     "execution_count": 13,
     "metadata": {},
     "output_type": "execute_result"
    }
   ],
   "source": [
    "# rows with question 2 being null\n",
    "test[pd.isnull(test['question2'])]"
   ]
  },
  {
   "cell_type": "markdown",
   "metadata": {},
   "source": [
    "## 2. Naive Classifier - Constant Prediction"
   ]
  },
  {
   "cell_type": "markdown",
   "metadata": {},
   "source": [
    "**Apparently, Kaggle uses log loss metric and takes class probabilities instead of class labels in this competition.** Log loss quantifies the accuracy of a classifier by penalising false classifications. And the goal is to effectively minimising the log loss, which is basically equivalent to maximising the accuracy of the classifier. \n",
    "\n",
    "In order to calculate log loss, the classifier must assign a probability to each class rather than simply yielding the most likely class. For a binary classifier with a true label y∈{0,1} and a probability estimate p=Pr(y=1), the log loss per sample is the negative log-likelihood of the classifier given the true label:\n",
    "$LogLoss(y,p)=−logPr(y|p)=−(ylog(p)+(1−y)log(1−p))$\n",
    " \n",
    "A perfect classifier would have a log loss of precisely zero. Less ideal classifiers have progressively larger values of log loss. Log loss heavily penalises classifiers that are confident about an incorrect classification. So, it’s better to be somewhat wrong than emphatically wrong. \n",
    "\n",
    "Two approaches to dealing with poor classifications:\n",
    "- Examine the problematic observations relative to the full data set, remove outliers from the data and re-train the classifier.\n",
    "- Consider smoothing the predicted probabilities to have a less “certain” classifier to improve the overall log loss.\n",
    "\n",
    "A naive classifier in this case would be to use a constant probability for all test examples. For example, we can predict the probability of question pairs being duplicate as all 1's, i.e., the `'is_duplicate'` fields are all 1's. Of course, this is not what we want to do in reality, but we can calculate some performance metrics for our reference. Similarly, some probability numbers we can try include 0.5, or 0.369 (the positive class distribution in the training set). "
   ]
  },
  {
   "cell_type": "markdown",
   "metadata": {},
   "source": [
    "### p = 1"
   ]
  },
  {
   "cell_type": "code",
   "execution_count": 15,
   "metadata": {
    "collapsed": false,
    "scrolled": true
   },
   "outputs": [
    {
     "name": "stdout",
     "output_type": "stream",
     "text": [
      "Accuracy score for naive predictor: 0.36919967943644133\n",
      "F score for naive predictor: 0.4225026395269515\n"
     ]
    }
   ],
   "source": [
    "# A naive predictor that classifies all questions as duplicates, i.e., predict all 1's for 'is_duplicate'\n",
    "accuracy = duplicated_pairs/total_pairs\n",
    "precision = duplicated_pairs/total_pairs\n",
    "recall = duplicated_pairs/duplicated_pairs\n",
    "F_score = (1 + 0.5**2) * (precision * recall)/(0.5**2 * precision + recall)\n",
    "\n",
    "print(\"Accuracy score for naive predictor: {}\".format(accuracy))\n",
    "print(\"F score for naive predictor: {}\".format(F_score))"
   ]
  },
  {
   "cell_type": "code",
   "execution_count": 16,
   "metadata": {
    "collapsed": false
   },
   "outputs": [],
   "source": [
    "# create a submission file\n",
    "submission1 = test[['test_id']]\n",
    "submission1['is_duplicate'] = 1\n",
    "submission1.to_csv('./submission/naive1.csv', index=False)"
   ]
  },
  {
   "cell_type": "markdown",
   "metadata": {},
   "source": [
    "Submission created by this naive predictor resulted a Kaggle log loss score of **28.52056**."
   ]
  },
  {
   "cell_type": "markdown",
   "metadata": {},
   "source": [
    "### p = 0.5 "
   ]
  },
  {
   "cell_type": "code",
   "execution_count": 17,
   "metadata": {
    "collapsed": false
   },
   "outputs": [],
   "source": [
    "# Alternatively, we can predict 0.5 for all the test data\n",
    "submission2 = test[['test_id']]\n",
    "submission2['is_duplicate'] = 0.5\n",
    "submission2.to_csv('./submission/naive2.csv', index=False)"
   ]
  },
  {
   "cell_type": "markdown",
   "metadata": {},
   "source": [
    "This submission resulted a Kaggle log loss score of **0.69315**."
   ]
  },
  {
   "cell_type": "markdown",
   "metadata": {},
   "source": [
    "### p = 0.369 "
   ]
  },
  {
   "cell_type": "code",
   "execution_count": 18,
   "metadata": {
    "collapsed": true
   },
   "outputs": [],
   "source": [
    "# according to the training set, the percentage of duplicated pairs is 36.9%. \n",
    "# so another naive option is to predict all 0.369 for all the test data and see what the score would be\n",
    "\n",
    "submission3 = test[['test_id']]\n",
    "submission3['is_duplicate'] = 0.369\n",
    "submission3.to_csv('./submission/naive3.csv', index=False)"
   ]
  },
  {
   "cell_type": "markdown",
   "metadata": {},
   "source": [
    "This submission resulted a Kaggle log loss score of **0.55394**. But the distribution of the test set can actually be different than the train set."
   ]
  },
  {
   "cell_type": "markdown",
   "metadata": {},
   "source": [
    "## 3. Base Classifier - with Some Basic Features"
   ]
  },
  {
   "cell_type": "markdown",
   "metadata": {},
   "source": [
    "Now the goal is to actually use the questions to build models that perform better than the constant predictor. As the first step, we can generate some basic features using the texts and compare some base classifiers. In particular, some basic features we can use: \n",
    "\n",
    "- Difference in question length, number of words, number of characters (excluding space and punctuation)\n",
    "- Number/ratio of shared words in questions"
   ]
  },
  {
   "cell_type": "markdown",
   "metadata": {},
   "source": [
    "### Basic Feature Generation"
   ]
  },
  {
   "cell_type": "code",
   "execution_count": 14,
   "metadata": {
    "collapsed": true
   },
   "outputs": [],
   "source": [
    "import string"
   ]
  },
  {
   "cell_type": "code",
   "execution_count": 15,
   "metadata": {
    "collapsed": true
   },
   "outputs": [],
   "source": [
    "def basic_feature(data):\n",
    "    '''\n",
    "    return a new dataframe with basic features generated: \n",
    "    - question length difference\n",
    "    - number of words difference \n",
    "    - number of character difference\n",
    "    - number of shared words \n",
    "    - ratio of shared words\n",
    "    '''\n",
    "    data['question1'] = data['question1'].astype(str)\n",
    "    data['question2'] = data['question2'].astype(str)\n",
    "    \n",
    "    # question length\n",
    "    # original length of the question\n",
    "    data['q1_length'] = data['question1'].apply(lambda x: len(x))\n",
    "    data['q2_length'] = data['question2'].apply(lambda x: len(x)) \n",
    "    # delta length\n",
    "    data['delta_length'] = data.apply(lambda row: abs(row['q2_length'] - row['q1_length']), axis=1)\n",
    "    \n",
    "    # questions with punctions removed\n",
    "    data['q1_no_punc'] = data['question1'].apply(lambda x: ''.join([char for char in x if char not in string.punctuation]))\n",
    "    data['q2_no_punc'] = data['question2'].apply(lambda x: ''.join([char for char in x if char not in string.punctuation]))\n",
    "    \n",
    "    # questions words list\n",
    "    data['q1_words'] = data['q1_no_punc'].apply(lambda x: [item for item in x.split()])\n",
    "    data['q2_words'] = data['q2_no_punc'].apply(lambda x: [item for item in x.split()])\n",
    "    \n",
    "    # number of words\n",
    "    # number of words in each question\n",
    "    data['q1_num_words'] = data['q1_words'].apply(lambda x: len(x))\n",
    "    data['q2_num_words'] = data['q2_words'].apply(lambda x: len(x))\n",
    "    # delta number of words\n",
    "    data['delta_num_words'] = data.apply(lambda row: abs(row['q1_num_words'] - row['q2_num_words']), axis=1)\n",
    "\n",
    "    # number of characters\n",
    "    # number of characters in questions excluding space and punctuations\n",
    "    data['q1_num_chars'] = data['q1_words'].apply(lambda x: len(''.join(x)))\n",
    "    data['q2_num_chars'] = data['q2_words'].apply(lambda x: len(''.join(x)))\n",
    "    # delta number of characters\n",
    "    data['delta_num_chars'] = data.apply(lambda row: abs(row['q2_num_chars'] - row['q1_num_chars']), axis=1)\n",
    "    \n",
    "    # shared words\n",
    "    # shared words list\n",
    "    data['share_words'] = data.apply(lambda row: list(set(row['q1_words']).intersection(row['q2_words'])), axis = 1)\n",
    "    # number of shared words\n",
    "    data['num_share_words'] = data['share_words'].apply(lambda x: len(x))\n",
    "    # ratio of shared words\n",
    "    data['ratio_share_words'] = data.apply(lambda row: row['num_share_words']/max(len(set(row['q1_words'])), \\\n",
    "                                                                                  len(set(row['q2_words']))), axis=1)\n",
    "    return data\n",
    "    "
   ]
  },
  {
   "cell_type": "code",
   "execution_count": 16,
   "metadata": {
    "collapsed": false
   },
   "outputs": [
    {
     "data": {
      "text/html": [
       "<div>\n",
       "<table border=\"1\" class=\"dataframe\">\n",
       "  <thead>\n",
       "    <tr style=\"text-align: right;\">\n",
       "      <th></th>\n",
       "      <th>id</th>\n",
       "      <th>qid1</th>\n",
       "      <th>qid2</th>\n",
       "      <th>question1</th>\n",
       "      <th>question2</th>\n",
       "      <th>is_duplicate</th>\n",
       "      <th>q1_length</th>\n",
       "      <th>q2_length</th>\n",
       "      <th>delta_length</th>\n",
       "      <th>q1_no_punc</th>\n",
       "      <th>...</th>\n",
       "      <th>q2_words</th>\n",
       "      <th>q1_num_words</th>\n",
       "      <th>q2_num_words</th>\n",
       "      <th>delta_num_words</th>\n",
       "      <th>q1_num_chars</th>\n",
       "      <th>q2_num_chars</th>\n",
       "      <th>delta_num_chars</th>\n",
       "      <th>share_words</th>\n",
       "      <th>num_share_words</th>\n",
       "      <th>ratio_share_words</th>\n",
       "    </tr>\n",
       "  </thead>\n",
       "  <tbody>\n",
       "    <tr>\n",
       "      <th>0</th>\n",
       "      <td>0</td>\n",
       "      <td>1</td>\n",
       "      <td>2</td>\n",
       "      <td>What is the step by step guide to invest in sh...</td>\n",
       "      <td>What is the step by step guide to invest in sh...</td>\n",
       "      <td>0</td>\n",
       "      <td>66</td>\n",
       "      <td>57</td>\n",
       "      <td>9</td>\n",
       "      <td>What is the step by step guide to invest in sh...</td>\n",
       "      <td>...</td>\n",
       "      <td>[What, is, the, step, by, step, guide, to, inv...</td>\n",
       "      <td>14</td>\n",
       "      <td>12</td>\n",
       "      <td>2</td>\n",
       "      <td>52</td>\n",
       "      <td>45</td>\n",
       "      <td>7</td>\n",
       "      <td>[step, invest, market, is, by, guide, in, shar...</td>\n",
       "      <td>11</td>\n",
       "      <td>0.916667</td>\n",
       "    </tr>\n",
       "    <tr>\n",
       "      <th>1</th>\n",
       "      <td>1</td>\n",
       "      <td>3</td>\n",
       "      <td>4</td>\n",
       "      <td>What is the story of Kohinoor (Koh-i-Noor) Dia...</td>\n",
       "      <td>What would happen if the Indian government sto...</td>\n",
       "      <td>0</td>\n",
       "      <td>51</td>\n",
       "      <td>88</td>\n",
       "      <td>37</td>\n",
       "      <td>What is the story of Kohinoor KohiNoor Diamond</td>\n",
       "      <td>...</td>\n",
       "      <td>[What, would, happen, if, the, Indian, governm...</td>\n",
       "      <td>8</td>\n",
       "      <td>13</td>\n",
       "      <td>5</td>\n",
       "      <td>39</td>\n",
       "      <td>71</td>\n",
       "      <td>32</td>\n",
       "      <td>[the, What, Kohinoor, KohiNoor]</td>\n",
       "      <td>4</td>\n",
       "      <td>0.333333</td>\n",
       "    </tr>\n",
       "    <tr>\n",
       "      <th>2</th>\n",
       "      <td>2</td>\n",
       "      <td>5</td>\n",
       "      <td>6</td>\n",
       "      <td>How can I increase the speed of my internet co...</td>\n",
       "      <td>How can Internet speed be increased by hacking...</td>\n",
       "      <td>0</td>\n",
       "      <td>73</td>\n",
       "      <td>59</td>\n",
       "      <td>14</td>\n",
       "      <td>How can I increase the speed of my internet co...</td>\n",
       "      <td>...</td>\n",
       "      <td>[How, can, Internet, speed, be, increased, by,...</td>\n",
       "      <td>14</td>\n",
       "      <td>10</td>\n",
       "      <td>4</td>\n",
       "      <td>59</td>\n",
       "      <td>49</td>\n",
       "      <td>10</td>\n",
       "      <td>[How, can, speed]</td>\n",
       "      <td>3</td>\n",
       "      <td>0.214286</td>\n",
       "    </tr>\n",
       "    <tr>\n",
       "      <th>3</th>\n",
       "      <td>3</td>\n",
       "      <td>7</td>\n",
       "      <td>8</td>\n",
       "      <td>Why am I mentally very lonely? How can I solve...</td>\n",
       "      <td>Find the remainder when [math]23^{24}[/math] i...</td>\n",
       "      <td>0</td>\n",
       "      <td>50</td>\n",
       "      <td>65</td>\n",
       "      <td>15</td>\n",
       "      <td>Why am I mentally very lonely How can I solve it</td>\n",
       "      <td>...</td>\n",
       "      <td>[Find, the, remainder, when, math2324math, is,...</td>\n",
       "      <td>11</td>\n",
       "      <td>9</td>\n",
       "      <td>2</td>\n",
       "      <td>38</td>\n",
       "      <td>47</td>\n",
       "      <td>9</td>\n",
       "      <td>[]</td>\n",
       "      <td>0</td>\n",
       "      <td>0.000000</td>\n",
       "    </tr>\n",
       "    <tr>\n",
       "      <th>4</th>\n",
       "      <td>4</td>\n",
       "      <td>9</td>\n",
       "      <td>10</td>\n",
       "      <td>Which one dissolve in water quikly sugar, salt...</td>\n",
       "      <td>Which fish would survive in salt water?</td>\n",
       "      <td>0</td>\n",
       "      <td>76</td>\n",
       "      <td>39</td>\n",
       "      <td>37</td>\n",
       "      <td>Which one dissolve in water quikly sugar salt ...</td>\n",
       "      <td>...</td>\n",
       "      <td>[Which, fish, would, survive, in, salt, water]</td>\n",
       "      <td>13</td>\n",
       "      <td>7</td>\n",
       "      <td>6</td>\n",
       "      <td>61</td>\n",
       "      <td>32</td>\n",
       "      <td>29</td>\n",
       "      <td>[salt, water, Which, in]</td>\n",
       "      <td>4</td>\n",
       "      <td>0.307692</td>\n",
       "    </tr>\n",
       "  </tbody>\n",
       "</table>\n",
       "<p>5 rows × 22 columns</p>\n",
       "</div>"
      ],
      "text/plain": [
       "   id  qid1  qid2                                          question1  \\\n",
       "0   0     1     2  What is the step by step guide to invest in sh...   \n",
       "1   1     3     4  What is the story of Kohinoor (Koh-i-Noor) Dia...   \n",
       "2   2     5     6  How can I increase the speed of my internet co...   \n",
       "3   3     7     8  Why am I mentally very lonely? How can I solve...   \n",
       "4   4     9    10  Which one dissolve in water quikly sugar, salt...   \n",
       "\n",
       "                                           question2  is_duplicate  q1_length  \\\n",
       "0  What is the step by step guide to invest in sh...             0         66   \n",
       "1  What would happen if the Indian government sto...             0         51   \n",
       "2  How can Internet speed be increased by hacking...             0         73   \n",
       "3  Find the remainder when [math]23^{24}[/math] i...             0         50   \n",
       "4            Which fish would survive in salt water?             0         76   \n",
       "\n",
       "   q2_length  delta_length                                         q1_no_punc  \\\n",
       "0         57             9  What is the step by step guide to invest in sh...   \n",
       "1         88            37     What is the story of Kohinoor KohiNoor Diamond   \n",
       "2         59            14  How can I increase the speed of my internet co...   \n",
       "3         65            15   Why am I mentally very lonely How can I solve it   \n",
       "4         39            37  Which one dissolve in water quikly sugar salt ...   \n",
       "\n",
       "         ...                                                  q2_words  \\\n",
       "0        ...         [What, is, the, step, by, step, guide, to, inv...   \n",
       "1        ...         [What, would, happen, if, the, Indian, governm...   \n",
       "2        ...         [How, can, Internet, speed, be, increased, by,...   \n",
       "3        ...         [Find, the, remainder, when, math2324math, is,...   \n",
       "4        ...            [Which, fish, would, survive, in, salt, water]   \n",
       "\n",
       "  q1_num_words q2_num_words  delta_num_words  q1_num_chars  q2_num_chars  \\\n",
       "0           14           12                2            52            45   \n",
       "1            8           13                5            39            71   \n",
       "2           14           10                4            59            49   \n",
       "3           11            9                2            38            47   \n",
       "4           13            7                6            61            32   \n",
       "\n",
       "   delta_num_chars                                        share_words  \\\n",
       "0                7  [step, invest, market, is, by, guide, in, shar...   \n",
       "1               32                    [the, What, Kohinoor, KohiNoor]   \n",
       "2               10                                  [How, can, speed]   \n",
       "3                9                                                 []   \n",
       "4               29                           [salt, water, Which, in]   \n",
       "\n",
       "   num_share_words ratio_share_words  \n",
       "0               11          0.916667  \n",
       "1                4          0.333333  \n",
       "2                3          0.214286  \n",
       "3                0          0.000000  \n",
       "4                4          0.307692  \n",
       "\n",
       "[5 rows x 22 columns]"
      ]
     },
     "execution_count": 16,
     "metadata": {},
     "output_type": "execute_result"
    }
   ],
   "source": [
    "data = basic_feature(data)\n",
    "data.head()"
   ]
  },
  {
   "cell_type": "markdown",
   "metadata": {},
   "source": [
    "### Models"
   ]
  },
  {
   "cell_type": "markdown",
   "metadata": {},
   "source": [
    "Now there are some basic features generated. Note that by no means are these features optimal for this problem. It is just they are simple and intuitive to the problem and I would like to use them to construct the base models. More features will certainly need to be added later to optimize the model. \n",
    "\n",
    "Classification models to be constructed and compared include: \n",
    "- Logistic regression: a go-to binary classification model \n",
    "- K nearest neighbor \n",
    "- Decision tree \n",
    "- Ensemble methods (Random Forest, AdaBoost, Gradient Boosting)"
   ]
  },
  {
   "cell_type": "code",
   "execution_count": 17,
   "metadata": {
    "collapsed": false
   },
   "outputs": [
    {
     "name": "stdout",
     "output_type": "stream",
     "text": [
      "Training set has 323430 samples.\n",
      "Testing set has 80858 samples.\n"
     ]
    }
   ],
   "source": [
    "from sklearn.cross_validation import train_test_split\n",
    "features = data[['delta_length', 'delta_num_words', 'delta_num_chars', 'num_share_words', 'ratio_share_words']]\n",
    "label = data['is_duplicate']\n",
    "X_train, X_test, y_train, y_test = train_test_split(features, label, test_size = 0.2, random_state = 0)\n",
    "\n",
    "print(\"Training set has {} samples.\".format(X_train.shape[0]))\n",
    "print(\"Testing set has {} samples.\".format(X_test.shape[0]))"
   ]
  },
  {
   "cell_type": "code",
   "execution_count": 19,
   "metadata": {
    "collapsed": true
   },
   "outputs": [],
   "source": [
    "# feature normalization \n",
    "from sklearn.preprocessing import MinMaxScaler\n",
    "scaler = MinMaxScaler()\n",
    "X_train = scaler.fit_transform(X_train)\n",
    "X_test = scaler.fit_transform(X_test)"
   ]
  },
  {
   "cell_type": "code",
   "execution_count": 20,
   "metadata": {
    "collapsed": false
   },
   "outputs": [],
   "source": [
    "from sklearn.metrics import fbeta_score\n",
    "from sklearn.metrics import accuracy_score\n",
    "from sklearn.metrics import log_loss\n",
    "from time import time\n",
    "\n",
    "def model(estimator, sample_size, X_train, y_train, X_test, y_test):\n",
    "    '''\n",
    "    return the performance metrics of an estimator\n",
    "    inputs:\n",
    "       - estimator: the learning algorithm to be trained and predicted on\n",
    "       - sample_size: the size of samples (number) to be drawn from training set\n",
    "       - X_train: features training set\n",
    "       - y_train: label training set\n",
    "       - X_test: features testing set\n",
    "       - y_test: label testing set\n",
    "    '''\n",
    "    results = {}\n",
    "    \n",
    "    # training \n",
    "    start = time()\n",
    "    estimator.fit(X_train[:sample_size], y_train[:sample_size])\n",
    "    end = time()\n",
    "    results['train_time'] = end - start\n",
    "    \n",
    "    # predicting \n",
    "    start = time()\n",
    "    pred_test = estimator.predict(X_test)\n",
    "    pred_test_proba = estimator.predict_proba(X_test)\n",
    "    pred_train = estimator.predict(X_train[:sample_size])\n",
    "    pred_train_proba = estimator.predict_proba(X_train[:sample_size])\n",
    "    end = time()\n",
    "    results['pred_time'] = end - start\n",
    "    \n",
    "    # performance scores on training/test sets\n",
    "    results['acc_train'] = accuracy_score(y_train[:sample_size], pred_train[:sample_size])\n",
    "    results['acc_test'] = accuracy_score(y_test, pred_test)\n",
    "    results['f_train'] = fbeta_score(y_train[:sample_size], pred_train[:sample_size], beta = 0.5)\n",
    "    results['f_test'] = fbeta_score(y_test, pred_test, beta = 0.5)\n",
    "    results['logloss_train'] = log_loss(y_train[:sample_size], pred_train_proba[:sample_size])\n",
    "    results['logloss_test'] = log_loss(y_test, pred_test_proba)\n",
    "    \n",
    "    return results"
   ]
  },
  {
   "cell_type": "code",
   "execution_count": 23,
   "metadata": {
    "collapsed": false
   },
   "outputs": [],
   "source": [
    "from sklearn.linear_model import LogisticRegression\n",
    "from sklearn.neighbors import KNeighborsClassifier\n",
    "from sklearn.tree import DecisionTreeClassifier\n",
    "from sklearn.ensemble import RandomForestClassifier\n",
    "from sklearn.ensemble import AdaBoostClassifier\n",
    "from sklearn.ensemble import GradientBoostingClassifier\n",
    "\n",
    "clf_1 = LogisticRegression(random_state=0)\n",
    "clf_2 = KNeighborsClassifier()\n",
    "clf_3 = DecisionTreeClassifier(random_state=0)\n",
    "clf_4 = RandomForestClassifier(random_state=0)\n",
    "clf_5 = AdaBoostClassifier(random_state=0)\n",
    "clf_6 = GradientBoostingClassifier(random_state=0)\n",
    "\n",
    "samples_1 = round(0.01 * X_train.shape[0])\n",
    "samples_10 = round(0.1 * X_train.shape[0])\n",
    "samples_100 = X_train.shape[0]\n",
    "\n",
    "results = {}\n",
    "for clf in [clf_1, clf_2, clf_3, clf_4, clf_5, clf_6]:\n",
    "    clf_name = clf.__class__.__name__\n",
    "    results[clf_name] = {}\n",
    "    for i, samples in enumerate([samples_1, samples_10, samples_100]):\n",
    "        results[clf_name][i] = model(clf, samples, X_train, y_train, X_test, y_test)"
   ]
  },
  {
   "cell_type": "code",
   "execution_count": 32,
   "metadata": {
    "collapsed": false
   },
   "outputs": [],
   "source": [
    "def model_performance(results, metric_train, metric_test):\n",
    "    \"\"\"\n",
    "    make plots to compare performance metrics of different models\n",
    "    \n",
    "    inputs:\n",
    "      - results: the results dictionary\n",
    "      - learners: the name of the classifier\n",
    "      - metric_train, metric_test: the type of metric of which the scores are to be plot\n",
    "    \"\"\"\n",
    "    \n",
    "    fig, ax = plt.subplots(2, 3, figsize = (11,7))\n",
    "    \n",
    "    N = 3\n",
    "    ind = np.arange(N)  # the x locations for the groups\n",
    "    width = 0.3       # the width of the bars\n",
    "    \n",
    "    for k, learner in enumerate(results.keys()):\n",
    "  \n",
    "        train_score = [results[learner][sample][metric_train] for sample in [0, 1, 2]]\n",
    "        test_score = [results[learner][sample][metric_test] for sample in [0, 1, 2]]\n",
    "\n",
    "        ax[k/3, k%3].bar(ind, train_score, width, color='blue')\n",
    "        ax[k/3, k%3].bar(ind + width, test_score, width, color='green')\n",
    "\n",
    "        # add some text for labels, title and axes ticks\n",
    "        ax[k/3, k%3].set_title(learner)\n",
    "        ax[k/3, k%3].set_ylabel('Scores', fontsize=10)\n",
    "        ax[k/3, k%3].set_ylim([0, 1])\n",
    "        ax[k/3, k%3].set_xticks(ind + width / 2)\n",
    "        ax[k/3, k%3].set_xticklabels(('1%', '10%', '100%'), fontsize=8)\n",
    "    \n",
    "    plt.legend([metric_train, metric_test], bbox_to_anchor = (-0.12, 2.42), \\\n",
    "               borderaxespad = 0., ncol = 2, fontsize=12)\n",
    "    plt.suptitle('Performance Metrics of Different Models', fontsize=14, y = 1.02)\n",
    "    plt.show()\n",
    "        "
   ]
  },
  {
   "cell_type": "code",
   "execution_count": 33,
   "metadata": {
    "collapsed": false
   },
   "outputs": [
    {
     "data": {
      "image/png": "[encoded data removed]",
      "text/plain": [
       "<matplotlib.figure.Figure at 0x14eddad30>"
      ]
     },
     "metadata": {},
     "output_type": "display_data"
    }
   ],
   "source": [
    "# compare accuracy scores of different models\n",
    "model_performance(results, 'acc_train', 'acc_test')"
   ]
  },
  {
   "cell_type": "markdown",
   "metadata": {},
   "source": [
    "All the above models achieve test accuracy over 60%, with decision tree, random forest and K nearest neighbor showing larger difference between training score and test score. AdaBoost and Gradient Boosting seem to give the best accuracy scores."
   ]
  },
  {
   "cell_type": "code",
   "execution_count": 34,
   "metadata": {
    "collapsed": false
   },
   "outputs": [
    {
     "data": {
      "image/png": "[encoded data removed]",
      "text/plain": [
       "<matplotlib.figure.Figure at 0x1533b6898>"
      ]
     },
     "metadata": {},
     "output_type": "display_data"
    }
   ],
   "source": [
    "# f score\n",
    "model_performance(results, 'f_train', 'f_test')"
   ]
  },
  {
   "cell_type": "markdown",
   "metadata": {},
   "source": [
    "AdaBoost and Gradient Boosting give the best F scores."
   ]
  },
  {
   "cell_type": "code",
   "execution_count": 38,
   "metadata": {
    "collapsed": false
   },
   "outputs": [
    {
     "data": {
      "image/png": "[encoded data removed]",
      "text/plain": [
       "<matplotlib.figure.Figure at 0x17ee42cf8>"
      ]
     },
     "metadata": {},
     "output_type": "display_data"
    }
   ],
   "source": [
    "# log loss\n",
    "fig, ax = plt.subplots(2, 3, figsize = (11,7))\n",
    "N = 3\n",
    "ind = np.arange(N)  # the x locations for the groups\n",
    "width = 0.3       # the width of the bars\n",
    "\n",
    "for k, learner in enumerate(results.keys()):\n",
    "    train_score = [results[learner][sample]['logloss_train'] for sample in [0, 1, 2]]\n",
    "    test_score = [results[learner][sample]['logloss_test'] for sample in [0, 1, 2]]\n",
    "\n",
    "    ax[k/3, k%3].bar(ind, train_score, width, color='blue')\n",
    "    ax[k/3, k%3].bar(ind + width, test_score, width, color='green')\n",
    "\n",
    "    # add some text for labels, title and axes ticks\n",
    "    ax[k/3, k%3].set_title(learner)\n",
    "    ax[k/3, k%3].set_ylabel('Scores', fontsize=10)\n",
    "    ax[k/3, k%3].set_xticks(ind + width / 2)\n",
    "    ax[k/3, k%3].set_xticklabels(('1%', '10%', '100%'), fontsize=8)\n",
    "    \n",
    "plt.legend(['logloss_train', 'logloss_test'], bbox_to_anchor = (-0.12, 2.42), \\\n",
    "               borderaxespad = 0., ncol = 2, fontsize=12)\n",
    "plt.suptitle('Performance Metrics of Different Models', fontsize=14, y = 1.02)\n",
    "plt.show()"
   ]
  },
  {
   "cell_type": "markdown",
   "metadata": {},
   "source": [
    "**Gradient boosting** gives the smallest log loss among all the models for training/test sets. Decision tree and random forest, while giving small log loss for training data, result in high log loss for test data."
   ]
  },
  {
   "cell_type": "code",
   "execution_count": 40,
   "metadata": {
    "collapsed": false
   },
   "outputs": [
    {
     "data": {
      "image/png": "[encoded data removed]",
      "text/plain": [
       "<matplotlib.figure.Figure at 0x17e6e97b8>"
      ]
     },
     "metadata": {},
     "output_type": "display_data"
    }
   ],
   "source": [
    "# model running time\n",
    "fig, ax = plt.subplots(2, 3, figsize = (11,7))\n",
    "N = 3\n",
    "ind = np.arange(N)  # the x locations for the groups\n",
    "width = 0.3       # the width of the bars\n",
    "\n",
    "for k, learner in enumerate(results.keys()):\n",
    "    train_score = [results[learner][sample]['train_time'] for sample in [0, 1, 2]]\n",
    "    test_score = [results[learner][sample]['pred_time'] for sample in [0, 1, 2]]\n",
    "\n",
    "    ax[k/3, k%3].bar(ind, train_score, width, color='blue')\n",
    "    ax[k/3, k%3].bar(ind + width, test_score, width, color='green')\n",
    "\n",
    "    # add some text for labels, title and axes ticks\n",
    "    ax[k/3, k%3].set_title(learner)\n",
    "    ax[k/3, k%3].set_ylabel('Time', fontsize=10)\n",
    "    ax[k/3, k%3].set_xticks(ind + width / 2)\n",
    "    ax[k/3, k%3].set_xticklabels(('1%', '10%', '100%'), fontsize=8)\n",
    "    \n",
    "plt.legend(['train_time', 'pred_time'], bbox_to_anchor = (-0.12, 2.42), \\\n",
    "               borderaxespad = 0., ncol = 2, fontsize=12)\n",
    "plt.suptitle('Performance Metrics of Different Models', fontsize=14, y = 1.02)\n",
    "plt.show()"
   ]
  },
  {
   "cell_type": "markdown",
   "metadata": {},
   "source": [
    "Gradient Boosting takes the longest time for training. K nearest neighbor, not suprisingly, takes the longest time for predicting."
   ]
  },
  {
   "cell_type": "markdown",
   "metadata": {},
   "source": [
    "## 4. Create a Submission File - GradientBoostingClassifier"
   ]
  },
  {
   "cell_type": "markdown",
   "metadata": {},
   "source": [
    "Gradient Boosting show overall the best performance among the 6 models. So it is used to create the first non-constant classifier. Note that no hyperparameter tuning is performed. So this model just serves as a benchmark."
   ]
  },
  {
   "cell_type": "code",
   "execution_count": 55,
   "metadata": {
    "collapsed": false
   },
   "outputs": [],
   "source": [
    "test = basic_feature(test)\n",
    "feature_cols = ['delta_length', 'delta_num_words', 'delta_num_chars', 'num_share_words', 'ratio_share_words']\n",
    "test_features = scaler.fit_transform(test[feature_cols])"
   ]
  },
  {
   "cell_type": "code",
   "execution_count": 56,
   "metadata": {
    "collapsed": false
   },
   "outputs": [],
   "source": [
    "clf = GradientBoostingClassifier(random_state=0)\n",
    "features = scaler.fit_transform(features)\n",
    "clf.fit(features, label)\n",
    "pred = clf.predict_proba(test_features)"
   ]
  },
  {
   "cell_type": "code",
   "execution_count": 61,
   "metadata": {
    "collapsed": false
   },
   "outputs": [
    {
     "data": {
      "text/plain": [
       "array([0, 1])"
      ]
     },
     "execution_count": 61,
     "metadata": {},
     "output_type": "execute_result"
    }
   ],
   "source": [
    "# 'pred' is a 2D array, giving the class probabilities of the input samples. \n",
    "# The order of the classes corresponds to that in the attribute classes_\n",
    "clf.classes_"
   ]
  },
  {
   "cell_type": "code",
   "execution_count": 66,
   "metadata": {
    "collapsed": false
   },
   "outputs": [],
   "source": [
    "# so the 2nd probability number is the number to be submitted\n",
    "pred_1 = [item[1] for item in pred]"
   ]
  },
  {
   "cell_type": "code",
   "execution_count": 67,
   "metadata": {
    "collapsed": false
   },
   "outputs": [],
   "source": [
    "# create submission file\n",
    "ids = test['test_id']\n",
    "submission = pd.DataFrame({'test_id': ids, 'is_duplicate': pred_1})\n",
    "submission[['test_id', 'is_duplicate']].to_csv('./submission/GBC_v0', index = False)"
   ]
  },
  {
   "cell_type": "markdown",
   "metadata": {},
   "source": [
    "The submission to Kaggle resulted in a log loss score of **0.48589**. Not bad! Next steps would be \n",
    "- to perform more sophisticated feature engineering \n",
    "- to tune the hyperparameters of the model\n",
    "- to learn/try XGBoost and Keras"
   ]
  },
  {
   "cell_type": "code",
   "execution_count": null,
   "metadata": {
    "collapsed": true
   },
   "outputs": [],
   "source": []
  }
 ],
 "metadata": {
  "anaconda-cloud": {},
  "kernelspec": {
   "display_name": "Python 3",
   "language": "python",
   "name": "python3"
  },
  "language_info": {
   "codemirror_mode": {
    "name": "ipython",
    "version": 3
   },
   "file_extension": ".py",
   "mimetype": "text/x-python",
   "name": "python",
   "nbconvert_exporter": "python",
   "pygments_lexer": "ipython3",
   "version": "3.5.2"
  }
 },
 "nbformat": 4,
 "nbformat_minor": 1
}
