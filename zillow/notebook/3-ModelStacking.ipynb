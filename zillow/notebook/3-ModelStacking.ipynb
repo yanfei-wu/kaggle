{
 "cells": [
  {
   "cell_type": "markdown",
   "metadata": {},
   "source": [
    "# Predict Home Price - Fine-Tune Base Model \n",
    "\n",
    "### *Introduction*  \n",
    "The goal of this project is to makes predictions about the future sale prices of homes. The prediction results are evaluated on **Mean Absolute Error** between the predicted log error and the actual log error. The logerror (target variable) is defined as ***logerror=log(Zestimate)−log(SalePrice)*** and is recorded in the training data. \n",
    "\n",
    "In the previous notebooks, the data which contains the list of real estate properties in three counties (Los Angeles, Orange and Ventura, California) data in 2016 were analyzed and cleaned. Base models were built and optimized using the cleaned dataset. \n",
    "\n",
    "### *About This Notebook*\n",
    "This notebook experiments with **model stacking** using the previously optimized models (Ridge, KNeighborsRegressor, RandomForestRegressor, and GradientBoostingRegressor). \n",
    "\n",
    "***In the first level of prediction***   \n",
    "a. The 4 models are used to train *(k-1)* (*k*: number of folds) folds of train set and predict the out-of-fold train set to result in a new train set containing the predictions of the 4 models as new features.     \n",
    "b. Similarly, each model trained on the *(k-1)* folds of train set is used to predict the entire test set, leading to *k* results which are averaged to obtained a mean prediction for each model. The predictions of the 4 models thus result in a new test set with 4 new features.    \n",
    "\n",
    "***In the first level of prediction,***   \n",
    "a. The new train set (with the original train labels) is used train a XGBoost model.   \n",
    "b. The trained model is used to predict the new test set to obtain the final result.   \n",
    " \n",
    "The mean absolute error of prediction on test set is:\n",
    "- 0.06708028229370397\n",
    "\n",
    "***Next Step:***  \n",
    "Try different combinations of base models for stacking."
   ]
  },
  {
   "cell_type": "markdown",
   "metadata": {},
   "source": [
    "## 0 | Package and Configuration"
   ]
  },
  {
   "cell_type": "code",
   "execution_count": 22,
   "metadata": {
    "collapsed": false
   },
   "outputs": [],
   "source": [
    "import pandas as pd\n",
    "import numpy as np\n",
    "import os\n",
    "import seaborn as sns\n",
    "sns.set_style('white')\n",
    "import matplotlib.pyplot as plt\n",
    "%matplotlib inline\n",
    "\n",
    "import pickle\n",
    "from sklearn.model_selection import train_test_split\n",
    "from sklearn.model_selection import cross_val_score\n",
    "from sklearn.model_selection import KFold\n",
    "from sklearn.model_selection import GridSearchCV\n",
    "from sklearn.preprocessing import LabelEncoder\n",
    "from sklearn.preprocessing import Imputer\n",
    "from sklearn.preprocessing import StandardScaler\n",
    "from sklearn.preprocessing import LabelBinarizer\n",
    "from sklearn.base import BaseEstimator, TransformerMixin\n",
    "from sklearn.pipeline import Pipeline\n",
    "from sklearn.pipeline import FeatureUnion\n",
    "from sklearn.linear_model import Ridge\n",
    "from sklearn.neighbors import KNeighborsRegressor\n",
    "from sklearn.ensemble import RandomForestRegressor\n",
    "from sklearn.ensemble import GradientBoostingRegressor\n",
    "from sklearn.metrics import mean_absolute_error\n",
    "import xgboost as xgb\n",
    "from xgboost.sklearn import XGBRegressor"
   ]
  },
  {
   "cell_type": "code",
   "execution_count": 2,
   "metadata": {
    "collapsed": true
   },
   "outputs": [],
   "source": [
    "# initiate random seed\n",
    "SEED = 8"
   ]
  },
  {
   "cell_type": "code",
   "execution_count": 3,
   "metadata": {
    "collapsed": true
   },
   "outputs": [],
   "source": [
    "# hide warnings\n",
    "import warnings\n",
    "warnings.filterwarnings('ignore')"
   ]
  },
  {
   "cell_type": "markdown",
   "metadata": {},
   "source": [
    "## 1 | Data Preparation"
   ]
  },
  {
   "cell_type": "markdown",
   "metadata": {},
   "source": [
    "### 1.1 Get Data"
   ]
  },
  {
   "cell_type": "code",
   "execution_count": 4,
   "metadata": {
    "collapsed": false
   },
   "outputs": [],
   "source": [
    "DATA_PATH = '../data'\n",
    "\n",
    "def load_data(path, file_name):\n",
    "    \"\"\"load csv data and return dataframe\"\"\"\n",
    "    csv_path = os.path.join(path, file_name)\n",
    "    return pd.read_csv(csv_path)"
   ]
  },
  {
   "cell_type": "code",
   "execution_count": 7,
   "metadata": {
    "collapsed": false
   },
   "outputs": [],
   "source": [
    "# load train_merge.csv - created in Notebook1\n",
    "train_merge = load_data(DATA_PATH, file_name='train_merge.csv')\n",
    "# drop `transactiondate` and `parcelid` in train\n",
    "train_merge.drop(['transactiondate', 'parcelid'], axis=1, inplace=True)"
   ]
  },
  {
   "cell_type": "code",
   "execution_count": 8,
   "metadata": {
    "collapsed": true
   },
   "outputs": [],
   "source": [
    "# load prop_downsized.csv - created in Notebook1\n",
    "prop = load_data(DATA_PATH, file_name='prop_downsized.csv')\n",
    "# drop `parcelid` in prop\n",
    "prop.drop(['parcelid'], axis=1, inplace=True)"
   ]
  },
  {
   "cell_type": "code",
   "execution_count": 10,
   "metadata": {
    "collapsed": false
   },
   "outputs": [
    {
     "name": "stdout",
     "output_type": "stream",
     "text": [
      "Training set size: (72220, 58)\n",
      "Test set size: (18055, 58)\n"
     ]
    }
   ],
   "source": [
    "# set aside a test set\n",
    "train_set, test_set = train_test_split(train_merge, test_size=0.2, random_state=SEED)\n",
    "print('Training set size: {}\\nTest set size: {}'.format(train_set.shape, test_set.shape))"
   ]
  },
  {
   "cell_type": "code",
   "execution_count": 11,
   "metadata": {
    "collapsed": false
   },
   "outputs": [],
   "source": [
    "# remove outliers\n",
    "train_wo_outlier = train_set[(train_set.logerror > -0.4) & (train_set.logerror < 0.42)]\n",
    "train_w_outlier = train_set.copy()"
   ]
  },
  {
   "cell_type": "code",
   "execution_count": 19,
   "metadata": {
    "collapsed": true
   },
   "outputs": [],
   "source": [
    "y_train = train_wo_outlier['logerror'].values\n",
    "X_train = train_wo_outlier.drop(['logerror'], axis=1)"
   ]
  },
  {
   "cell_type": "markdown",
   "metadata": {},
   "source": [
    "### 1.2 Preprocess data"
   ]
  },
  {
   "cell_type": "code",
   "execution_count": 39,
   "metadata": {
    "collapsed": false
   },
   "outputs": [],
   "source": [
    "class DataFrameSelector(BaseEstimator, TransformerMixin):\n",
    "    \"\"\"select desired features and drop the rest\"\"\"\n",
    "    def __init__(self, features):\n",
    "        self.features = features\n",
    "    \n",
    "    def fit(self, X, y=None):\n",
    "        return self\n",
    "    \n",
    "    def transform(self, X, y=None):\n",
    "        return X[self.features]"
   ]
  },
  {
   "cell_type": "code",
   "execution_count": 40,
   "metadata": {
    "collapsed": true
   },
   "outputs": [],
   "source": [
    "class FeatureAdder(BaseEstimator, TransformerMixin):\n",
    "    \"\"\"add new features including average size of rooms, ratio between living area and lot size,\n",
    "    ratio between property tax and total tax, and ratio between structure value and land value\"\"\"\n",
    "    def __init__(self, add_new_feature=True):\n",
    "        self.add_new_feature = add_new_feature\n",
    "        \n",
    "    def fit(self, X, y=None):\n",
    "        return self\n",
    "    \n",
    "    def transform(self, X, y=None):\n",
    "        # define new features\n",
    "        N_AvgSize = X['calculatedfinishedsquarefeet']/(X['bedroomcnt'] + X['bathroomcnt'] + 1)\n",
    "        N_PropLot = X['calculatedfinishedsquarefeet']/X['lotsizesquarefeet']\n",
    "        N_ValueRatio = X['taxamount']/X['taxvaluedollarcnt']\n",
    "        N_StructLand = X['structuretaxvaluedollarcnt']/X['landtaxvaluedollarcnt']\n",
    "        # add new features if True\n",
    "        if self.add_new_feature:\n",
    "            return np.c_[X, N_AvgSize, N_PropLot, N_ValueRatio, N_StructLand]\n",
    "        else:\n",
    "            return X"
   ]
  },
  {
   "cell_type": "code",
   "execution_count": 41,
   "metadata": {
    "collapsed": true
   },
   "outputs": [],
   "source": [
    "class FeatureDropper(BaseEstimator, TransformerMixin):\n",
    "    \"\"\"drop features with percentage of missing missing values larger than missing_pct\"\"\"\n",
    "    def __init__(self, missing_pct=1, drop_cols=[]):\n",
    "        self.missing_pct = missing_pct # missing value percentage threshold\n",
    "        self.drop_cols = drop_cols # initialize columns to drop\n",
    "        \n",
    "    def fit(self, X, y=None):\n",
    "        return self\n",
    "    \n",
    "    def transform(self, X, y=None):\n",
    "        for col in X.columns:\n",
    "            if pd.isnull(X[col]).sum()/X.shape[0] >= self.missing_pct:\n",
    "                self.drop_cols.append(col)\n",
    "        X = X.drop(self.drop_cols, axis=1)\n",
    "        return X"
   ]
  },
  {
   "cell_type": "code",
   "execution_count": 42,
   "metadata": {
    "collapsed": false
   },
   "outputs": [],
   "source": [
    "class CatTransformer(BaseEstimator, TransformerMixin):\n",
    "    \"\"\"categorival feature transformer: impute categorical value and encode categories\"\"\"\n",
    "    def __init__(self, cat_dict):\n",
    "        self.cat_dict = cat_dict\n",
    "        \n",
    "    def fit(self, X, y=None):\n",
    "        return self\n",
    "    \n",
    "    def transform(self, X, y=None):\n",
    "        for col in X.columns:\n",
    "            if X[col].dtype == 'O':\n",
    "                X[col].fillna('-99', inplace=True)\n",
    "            X[col].fillna(-99, inplace=True)\n",
    "            X[col] = X[col].astype('category', categories=self.cat_dict[col])\n",
    "        return X"
   ]
  },
  {
   "cell_type": "code",
   "execution_count": 43,
   "metadata": {
    "collapsed": true
   },
   "outputs": [],
   "source": [
    "class DummyEncoder(TransformerMixin):\n",
    "    \"\"\"create dummy variables\"\"\"\n",
    "    def __init__(self, columns=None):\n",
    "        self.columns = columns\n",
    "        \n",
    "    def fit(self, X, y=None):\n",
    "        return self\n",
    "\n",
    "    def transform(self, X, y=None):\n",
    "        return pd.get_dummies(X, columns=self.columns)"
   ]
  },
  {
   "cell_type": "code",
   "execution_count": 44,
   "metadata": {
    "collapsed": true
   },
   "outputs": [],
   "source": [
    "# numerical features\n",
    "num_features = ['basementsqft', 'bathroomcnt', 'bedroomcnt', 'calculatedbathnbr', \\\n",
    "             'threequarterbathnbr', 'finishedfloor1squarefeet', 'calculatedfinishedsquarefeet',\\\n",
    "             'finishedsquarefeet6', 'finishedsquarefeet12', 'finishedsquarefeet13', \\\n",
    "             'finishedsquarefeet15', 'finishedsquarefeet50', 'fireplacecnt', 'fullbathcnt', \\\n",
    "             'garagecarcnt', 'garagetotalsqft', 'latitude', 'longitude', 'lotsizesquarefeet', \\\n",
    "             'numberofstories', 'poolcnt', 'poolsizesum', 'roomcnt', \\\n",
    "             'unitcnt', 'yardbuildingsqft17', 'yardbuildingsqft26', 'yearbuilt', \\\n",
    "             'taxvaluedollarcnt', 'structuretaxvaluedollarcnt', 'landtaxvaluedollarcnt', \\\n",
    "             'taxamount', 'assessmentyear']\n",
    "\n",
    "# categorical features\n",
    "cat_features = ['airconditioningtypeid', 'decktypeid', 'architecturalstyletypeid', \\\n",
    "               'buildingclasstypeid', 'heatingorsystemtypeid', 'fips', 'fireplaceflag', \\\n",
    "               'hashottuborspa', 'pooltypeid10', 'pooltypeid2', 'propertylandusetypeid', \\\n",
    "               'propertyzoningdesc', 'regionidcounty', 'taxdelinquencyflag', 'propertycountylandusecode', \\\n",
    "                'rawcensustractandblock', 'censustractandblock', 'regionidcity', 'regionidzip', \\\n",
    "                'regionidneighborhood', 'storytypeid', 'pooltypeid7', 'typeconstructiontypeid', 'taxdelinquencyyear']\n",
    "\n",
    "# potential features to drop (categorical variables with large number of levels) \n",
    "drop_features = ['propertycountylandusecode', 'rawcensustractandblock', 'censustractandblock', \\\n",
    "                 'regionidcity', 'regionidzip', 'regionidneighborhood', 'propertyzoningdesc']"
   ]
  },
  {
   "cell_type": "code",
   "execution_count": 47,
   "metadata": {
    "collapsed": false
   },
   "outputs": [],
   "source": [
    "with open('../data/categories.pickle', 'rb') as handle:\n",
    "    categories = pickle.load(handle)"
   ]
  },
  {
   "cell_type": "code",
   "execution_count": 48,
   "metadata": {
    "collapsed": false
   },
   "outputs": [],
   "source": [
    "# pipeline for numerical features\n",
    "num_pipe = Pipeline([\n",
    "        ('selector', DataFrameSelector(num_features)),\n",
    "        ('feature_dropper', FeatureDropper(missing_pct=0.95)),\n",
    "        ('feature_adder', FeatureAdder(add_new_feature=True)),\n",
    "        ('imputer', Imputer(strategy='median')),\n",
    "        ('scaler', StandardScaler())\n",
    "    ])"
   ]
  },
  {
   "cell_type": "code",
   "execution_count": 49,
   "metadata": {
    "collapsed": false
   },
   "outputs": [],
   "source": [
    "# pipeline for categorical features\n",
    "cat_pipe = Pipeline([\n",
    "        ('selector', DataFrameSelector(cat_features)), \n",
    "        ('feature_dropper', FeatureDropper(missing_pct=0.95, drop_cols=drop_features)),\n",
    "        ('cat_transform', CatTransformer(categories)),\n",
    "        ('get_dummy', DummyEncoder())\n",
    "    ])"
   ]
  },
  {
   "cell_type": "code",
   "execution_count": 50,
   "metadata": {
    "collapsed": false
   },
   "outputs": [],
   "source": [
    "# full pipeline combining pipelines for numerical and categorical features\n",
    "full_pipe = FeatureUnion([\n",
    "        ('num_pipeline', num_pipe),\n",
    "        ('cat_pipeline', cat_pipe)\n",
    "    ])"
   ]
  },
  {
   "cell_type": "code",
   "execution_count": 51,
   "metadata": {
    "collapsed": true
   },
   "outputs": [],
   "source": [
    "# transform features with full_pipe\n",
    "X_train_transformed = full_pipe.fit_transform(X_train)"
   ]
  },
  {
   "cell_type": "code",
   "execution_count": 52,
   "metadata": {
    "collapsed": false
   },
   "outputs": [],
   "source": [
    "# test features and labels\n",
    "y_test = test_set['logerror'].values\n",
    "X_test = test_set.drop(['logerror'], axis=1)\n",
    "X_test_transformed = full_pipe.transform(X_test)"
   ]
  },
  {
   "cell_type": "markdown",
   "metadata": {},
   "source": [
    "## 2 | Model Stacking"
   ]
  },
  {
   "cell_type": "markdown",
   "metadata": {},
   "source": [
    "### 2.1 First level "
   ]
  },
  {
   "cell_type": "code",
   "execution_count": 38,
   "metadata": {
    "collapsed": true
   },
   "outputs": [],
   "source": [
    "# initiate parameters\n",
    "ntrain = X_train_transformed.shape[0]\n",
    "ntest = X_test_transformed.shape[0]\n",
    "NFOLDS = 5\n",
    "kfold = KFold(n_splits= NFOLDS, shuffle=True, random_state=SEED)"
   ]
  },
  {
   "cell_type": "code",
   "execution_count": 39,
   "metadata": {
    "collapsed": true
   },
   "outputs": [],
   "source": [
    "class SklearnHelper(object):\n",
    "    \"\"\"extend the Sklearn method (fit, predict) to all classifiers\"\"\"\n",
    "    def __init__(self, model, params=None):\n",
    "        self.model = model(**params)\n",
    "\n",
    "    def fit(self, X, y):\n",
    "        return self.model.fit(X, y)\n",
    "\n",
    "    def predict(self, X):\n",
    "        return self.model.predict(X)"
   ]
  },
  {
   "cell_type": "code",
   "execution_count": 55,
   "metadata": {
    "collapsed": true
   },
   "outputs": [],
   "source": [
    "def get_oof(model, X_train, y_train, X_test):\n",
    "    \"\"\"get out-of-fold prediction\"\"\"\n",
    "    \n",
    "    oof_train = np.zeros((ntrain,))\n",
    "    oof_test = np.zeros((ntest,))\n",
    "    oof_test_skf = np.empty((NFOLDS, ntest))\n",
    "\n",
    "    # fit model with NFOLDS-1 folds and test on left-out fold as well sa test set\n",
    "    for i, (train_index, test_index) in enumerate(kfold.split(X_train)):\n",
    "        X_tr = X_train[train_index]\n",
    "        y_tr = y_train[train_index]\n",
    "        X_te = X_train[test_index]\n",
    "\n",
    "        model.fit(X_tr, y_tr)\n",
    "\n",
    "        oof_train[test_index] = model.predict(X_te)\n",
    "        oof_test_skf[i, :] = model.predict(X_test)\n",
    "\n",
    "    oof_test[:] = oof_test_skf.mean(axis=0)\n",
    "    return oof_train.reshape(-1, 1), oof_test.reshape(-1, 1)"
   ]
  },
  {
   "cell_type": "code",
   "execution_count": 45,
   "metadata": {
    "collapsed": true
   },
   "outputs": [],
   "source": [
    "# parameters for the base models\n",
    "ridge_params = {\n",
    "    'alpha': 4000,\n",
    "    'random_state': SEED\n",
    "}\n",
    "\n",
    "knn_params = {\n",
    "    'n_jobs': -1,\n",
    "    'n_neighbors': 80,\n",
    "    'p': 1\n",
    "}\n",
    "\n",
    "rf_params = {\n",
    "    'n_jobs': -1,\n",
    "    'n_estimators': 500, \n",
    "    'max_depth': 5,\n",
    "    'random_state': SEED\n",
    "}\n",
    "\n",
    "gb_params = {\n",
    "    'n_estimators': 80, \n",
    "    'max_depth': 3,\n",
    "    'random_state': SEED\n",
    "}   "
   ]
  },
  {
   "cell_type": "code",
   "execution_count": 46,
   "metadata": {
    "collapsed": false
   },
   "outputs": [],
   "source": [
    "# Create objects of the models\n",
    "ridge = SklearnHelper(model=Ridge, params=ridge_params)\n",
    "knn = SklearnHelper(model=KNeighborsRegressor, params=knn_params)\n",
    "rf = SklearnHelper(model=RandomForestRegressor, params=rf_params)\n",
    "gb = SklearnHelper(model=GradientBoostingRegressor, params=gb_params)"
   ]
  },
  {
   "cell_type": "code",
   "execution_count": 56,
   "metadata": {
    "collapsed": false
   },
   "outputs": [],
   "source": [
    "# OOF train and test predictions\n",
    "ridge_oof_train, ridge_oof_test = get_oof(ridge, X_train_transformed, \n",
    "                                          y_train, X_test_transformed)\n",
    "knn_oof_train, knn_oof_test = get_oof(knn, X_train_transformed, \n",
    "                                      y_train, X_test_transformed)\n",
    "rf_oof_train, rf_oof_test = get_oof(rf, X_train_transformed, \n",
    "                                    y_train, X_test_transformed) \n",
    "gb_oof_train, gb_oof_test = get_oof(gb, X_train_transformed, \n",
    "                                    y_train, X_test_transformed)"
   ]
  },
  {
   "cell_type": "code",
   "execution_count": 59,
   "metadata": {
    "collapsed": false
   },
   "outputs": [
    {
     "data": {
      "text/html": [
       "<div>\n",
       "<table border=\"1\" class=\"dataframe\">\n",
       "  <thead>\n",
       "    <tr style=\"text-align: right;\">\n",
       "      <th></th>\n",
       "      <th>gb</th>\n",
       "      <th>knn</th>\n",
       "      <th>rf</th>\n",
       "      <th>ridge</th>\n",
       "    </tr>\n",
       "  </thead>\n",
       "  <tbody>\n",
       "    <tr>\n",
       "      <th>0</th>\n",
       "      <td>0.004632</td>\n",
       "      <td>-0.006104</td>\n",
       "      <td>0.004802</td>\n",
       "      <td>0.005834</td>\n",
       "    </tr>\n",
       "    <tr>\n",
       "      <th>1</th>\n",
       "      <td>-0.007503</td>\n",
       "      <td>-0.007574</td>\n",
       "      <td>0.004621</td>\n",
       "      <td>-0.003053</td>\n",
       "    </tr>\n",
       "    <tr>\n",
       "      <th>2</th>\n",
       "      <td>0.010662</td>\n",
       "      <td>0.006564</td>\n",
       "      <td>0.008791</td>\n",
       "      <td>0.009916</td>\n",
       "    </tr>\n",
       "    <tr>\n",
       "      <th>3</th>\n",
       "      <td>0.014528</td>\n",
       "      <td>-0.003636</td>\n",
       "      <td>0.008900</td>\n",
       "      <td>0.003424</td>\n",
       "    </tr>\n",
       "    <tr>\n",
       "      <th>4</th>\n",
       "      <td>-0.015111</td>\n",
       "      <td>-0.016555</td>\n",
       "      <td>-0.022401</td>\n",
       "      <td>-0.001636</td>\n",
       "    </tr>\n",
       "  </tbody>\n",
       "</table>\n",
       "</div>"
      ],
      "text/plain": [
       "         gb       knn        rf     ridge\n",
       "0  0.004632 -0.006104  0.004802  0.005834\n",
       "1 -0.007503 -0.007574  0.004621 -0.003053\n",
       "2  0.010662  0.006564  0.008791  0.009916\n",
       "3  0.014528 -0.003636  0.008900  0.003424\n",
       "4 -0.015111 -0.016555 -0.022401 -0.001636"
      ]
     },
     "execution_count": 59,
     "metadata": {},
     "output_type": "execute_result"
    }
   ],
   "source": [
    "# 2nd level prediction with the first level output\n",
    "base_pred_train = pd.DataFrame({\n",
    "        'ridge': ridge_oof_train.ravel(),\n",
    "        'knn': knn_oof_train.ravel(),\n",
    "        'rf': rf_oof_train.ravel(),\n",
    "        'gb': gb_oof_train.ravel()\n",
    "    })\n",
    "base_pred_train.head()"
   ]
  },
  {
   "cell_type": "code",
   "execution_count": 65,
   "metadata": {
    "collapsed": true
   },
   "outputs": [],
   "source": [
    "base_pred_test = pd.DataFrame({\n",
    "        'ridge': ridge_oof_test.ravel(),\n",
    "        'knn': knn_oof_test.ravel(),\n",
    "        'rf': rf_oof_test.ravel(),\n",
    "        'gb': gb_oof_test.ravel()\n",
    "    })"
   ]
  },
  {
   "cell_type": "code",
   "execution_count": 63,
   "metadata": {
    "collapsed": false
   },
   "outputs": [
    {
     "data": {
      "image/png": "[encoded data removed]",
      "text/plain": [
       "<matplotlib.figure.Figure at 0x11be778d0>"
      ]
     },
     "metadata": {},
     "output_type": "display_data"
    }
   ],
   "source": [
    "# correlation of first level output\n",
    "corr = base_pred_train.corr()\n",
    "\n",
    "# plot correlation matrix\n",
    "f, ax = plt.subplots(figsize=(6, 5))\n",
    "mask = np.zeros_like(corr, dtype=np.bool) # Generate a mask for the upper triangle\n",
    "mask[np.triu_indices_from(mask)] = True\n",
    "cmap = sns.diverging_palette(220, 10, as_cmap=True)\n",
    "sns.heatmap(corr, mask=mask, cmap=cmap, vmax=1, center=0,\n",
    "            square=True, linewidths=.5, cbar_kws={\"shrink\": .5})\n",
    "plt.title('Correlation matrix of first level output');"
   ]
  },
  {
   "cell_type": "code",
   "execution_count": 62,
   "metadata": {
    "collapsed": false
   },
   "outputs": [
    {
     "data": {
      "text/html": [
       "<div>\n",
       "<table border=\"1\" class=\"dataframe\">\n",
       "  <thead>\n",
       "    <tr style=\"text-align: right;\">\n",
       "      <th></th>\n",
       "      <th>gb</th>\n",
       "      <th>knn</th>\n",
       "      <th>rf</th>\n",
       "      <th>ridge</th>\n",
       "    </tr>\n",
       "  </thead>\n",
       "  <tbody>\n",
       "    <tr>\n",
       "      <th>gb</th>\n",
       "      <td>1.000000</td>\n",
       "      <td>0.455252</td>\n",
       "      <td>0.871209</td>\n",
       "      <td>0.534937</td>\n",
       "    </tr>\n",
       "    <tr>\n",
       "      <th>knn</th>\n",
       "      <td>0.455252</td>\n",
       "      <td>1.000000</td>\n",
       "      <td>0.377244</td>\n",
       "      <td>0.422510</td>\n",
       "    </tr>\n",
       "    <tr>\n",
       "      <th>rf</th>\n",
       "      <td>0.871209</td>\n",
       "      <td>0.377244</td>\n",
       "      <td>1.000000</td>\n",
       "      <td>0.484763</td>\n",
       "    </tr>\n",
       "    <tr>\n",
       "      <th>ridge</th>\n",
       "      <td>0.534937</td>\n",
       "      <td>0.422510</td>\n",
       "      <td>0.484763</td>\n",
       "      <td>1.000000</td>\n",
       "    </tr>\n",
       "  </tbody>\n",
       "</table>\n",
       "</div>"
      ],
      "text/plain": [
       "             gb       knn        rf     ridge\n",
       "gb     1.000000  0.455252  0.871209  0.534937\n",
       "knn    0.455252  1.000000  0.377244  0.422510\n",
       "rf     0.871209  0.377244  1.000000  0.484763\n",
       "ridge  0.534937  0.422510  0.484763  1.000000"
      ]
     },
     "execution_count": 62,
     "metadata": {},
     "output_type": "execute_result"
    }
   ],
   "source": [
    "corr"
   ]
  },
  {
   "cell_type": "markdown",
   "metadata": {},
   "source": [
    "The 4 models show some correlation with each other, especially between RandomForest and GradientBoosting."
   ]
  },
  {
   "cell_type": "code",
   "execution_count": 66,
   "metadata": {
    "collapsed": true
   },
   "outputs": [],
   "source": [
    "# save base_pred_train and base_pred_test\n",
    "base_pred_train.to_csv('../data/base_pred_train.csv', index=False)\n",
    "base_pred_test.to_csv('../data/base_pred_test.csv', index=False)"
   ]
  },
  {
   "cell_type": "markdown",
   "metadata": {},
   "source": [
    "### 2.2 Second Level"
   ]
  },
  {
   "cell_type": "code",
   "execution_count": 67,
   "metadata": {
    "collapsed": true
   },
   "outputs": [],
   "source": [
    "# predictions from first level output as the new train and test set\n",
    "X_train_2 = np.concatenate((ridge_oof_train, knn_oof_train, rf_oof_train, gb_oof_train), axis=1)\n",
    "X_test_2 = np.concatenate((ridge_oof_test, knn_oof_test, rf_oof_test, gb_oof_test), axis=1)"
   ]
  },
  {
   "cell_type": "markdown",
   "metadata": {},
   "source": [
    "#### XGBoost"
   ]
  },
  {
   "cell_type": "code",
   "execution_count": 18,
   "metadata": {
    "collapsed": true
   },
   "outputs": [],
   "source": [
    "def model_fit(alg, X_train, y_train, useTrainCV=True, cv_folds=NFOLDS, early_stopping_rounds=50):\n",
    "    \"\"\"function to create XGBoost models and perform cross-validation\"\"\"\n",
    "    \n",
    "    if useTrainCV:\n",
    "        xgb_param = alg.get_xgb_params()\n",
    "        dtrain = xgb.DMatrix(X_train, y_train)\n",
    "        cvresult = xgb.cv(xgb_param, \n",
    "                          dtrain, \n",
    "                          num_boost_round=alg.get_params()['n_estimators'], \n",
    "                          nfold=cv_folds,\n",
    "                          metrics='mae', \n",
    "                          early_stopping_rounds=early_stopping_rounds,\n",
    "                          show_stdv=False)\n",
    "        alg.set_params(n_estimators=cvresult.shape[0])\n",
    "    \n",
    "    # Fit the algorithm on the data\n",
    "    alg.fit(X_train, y_train, eval_metric='mae')\n",
    "        \n",
    "    # Predict training set:\n",
    "    pred = alg.predict(X_train)\n",
    "        \n",
    "    #Print model report:\n",
    "    print(\"\\nModel Report\")\n",
    "    print(\"Best Iteration: %i\" % cvresult.shape[0])\n",
    "    print(\"MAE : %.4g\" % mean_absolute_error(y_train, pred))"
   ]
  },
  {
   "cell_type": "code",
   "execution_count": 25,
   "metadata": {
    "collapsed": false,
    "scrolled": true
   },
   "outputs": [
    {
     "name": "stdout",
     "output_type": "stream",
     "text": [
      "\n",
      "Model Report\n",
      "Best Iteration: 48\n",
      "MAE : 0.05267\n"
     ]
    }
   ],
   "source": [
    "# tune the learning rate & number of trees\n",
    "xgb1 = XGBRegressor(learning_rate =0.03,\n",
    "                    n_estimators=500,\n",
    "                    max_depth=5,\n",
    "                    min_child_weight=1,\n",
    "                    gamma=0,\n",
    "                    subsample=0.8,\n",
    "                    colsample_bytree=0.8,\n",
    "                    objective='reg:linear',\n",
    "                    base_score=0.0107,\n",
    "                    seed=SEED)\n",
    "model_fit(xgb1, X_train_2, y_train)"
   ]
  },
  {
   "cell_type": "code",
   "execution_count": 26,
   "metadata": {
    "collapsed": false
   },
   "outputs": [
    {
     "name": "stdout",
     "output_type": "stream",
     "text": [
      "{'max_depth': 3, 'min_child_weight': 1}\n",
      "-0.05289824403\n"
     ]
    }
   ],
   "source": [
    "# tune max_depth & min_chile_weight\n",
    "param_test1 = {'max_depth': range(3,10,2), 'min_child_weight': range(1,6,2)}\n",
    "model = XGBRegressor(learning_rate=0.03, n_estimators=48, max_depth=5, min_child_weight=1, \\\n",
    "                     gamma=0, subsample=0.8, colsample_bytree=0.8, objective='reg:linear', \\\n",
    "                     base_score=0.0107, seed=SEED)\n",
    "grid_1 = GridSearchCV(model, param_grid=param_test1, scoring='neg_mean_absolute_error', \\\n",
    "                      n_jobs=2, cv=5)\n",
    "grid_1.fit(X_train_2, y_train)\n",
    "print(grid_1.best_params_) \n",
    "print(grid_1.best_score_)"
   ]
  },
  {
   "cell_type": "code",
   "execution_count": 28,
   "metadata": {
    "collapsed": false
   },
   "outputs": [
    {
     "name": "stdout",
     "output_type": "stream",
     "text": [
      "{'gamma': 0.0}\n",
      "-0.05289824403\n"
     ]
    }
   ],
   "source": [
    "# tune gamma\n",
    "param_test2 = {'gamma': [i/10.0 for i in range(0,5)]}\n",
    "model = XGBRegressor(learning_rate=0.03, n_estimators=48, max_depth=3, min_child_weight=1, \\\n",
    "                     gamma=0, subsample=0.8, colsample_bytree=0.8, objective='reg:linear', \\\n",
    "                     base_score=0.0107, seed=SEED)\n",
    "grid_2 = GridSearchCV(model, param_grid=param_test2, scoring='neg_mean_absolute_error', \\\n",
    "                      n_jobs=2, cv=5)\n",
    "grid_2.fit(X_train_2, y_train)\n",
    "\n",
    "print(grid_2.best_params_) \n",
    "print(grid_2.best_score_)"
   ]
  },
  {
   "cell_type": "code",
   "execution_count": 29,
   "metadata": {
    "collapsed": false
   },
   "outputs": [
    {
     "name": "stdout",
     "output_type": "stream",
     "text": [
      "\n",
      "Model Report\n",
      "Best Iteration: 48\n",
      "MAE : 0.05283\n"
     ]
    }
   ],
   "source": [
    "# re-calibrate the number of boosting rounds for the updated parameters\n",
    "xgb2 = XGBRegressor(learning_rate =0.03,\n",
    "                    n_estimators=48,\n",
    "                    max_depth=3,\n",
    "                    min_child_weight=1,\n",
    "                    gamma=0,\n",
    "                    subsample=0.8,\n",
    "                    colsample_bytree=0.8,\n",
    "                    objective='reg:linear',\n",
    "                    base_score=0.0107,\n",
    "                    seed=SEED)\n",
    "model_fit(xgb2, X_train_2, y_train)"
   ]
  },
  {
   "cell_type": "code",
   "execution_count": 30,
   "metadata": {
    "collapsed": false
   },
   "outputs": [
    {
     "name": "stdout",
     "output_type": "stream",
     "text": [
      "{'subsample': 0.7, 'colsample_bytree': 0.6}\n",
      "-0.0528871828661\n"
     ]
    }
   ],
   "source": [
    "# tune subsample & colsample_bytree\n",
    "param_test3 = {'subsample':[i/10.0 for i in range(6,10)],\n",
    "               'colsample_bytree':[i/10.0 for i in range(6,10)]}\n",
    "model = XGBRegressor(learning_rate=0.03, n_estimators=48, max_depth=3, min_child_weight=1, \\\n",
    "                     gamma=0, subsample=0.8, colsample_bytree=0.8, objective='reg:linear', \\\n",
    "                     base_score=0.0107, seed=SEED)\n",
    "grid_3 = GridSearchCV(model, param_grid=param_test3, scoring='neg_mean_absolute_error', \\\n",
    "                      n_jobs=2, cv=5)\n",
    "grid_3.fit(X_train_2, y_train)\n",
    "\n",
    "print(grid_3.best_params_) \n",
    "print(grid_3.best_score_)"
   ]
  },
  {
   "cell_type": "code",
   "execution_count": 31,
   "metadata": {
    "collapsed": false
   },
   "outputs": [
    {
     "name": "stdout",
     "output_type": "stream",
     "text": [
      "{'subsample': 0.7, 'colsample_bytree': 0.55}\n",
      "-0.0528871828661\n"
     ]
    }
   ],
   "source": [
    "# fine tune subsample & colsample_bytree\n",
    "param_test4 = {'subsample':[i/100.0 for i in range(65, 80, 5)],\n",
    "               'colsample_bytree':[i/100.0 for i in range(55, 70, 5)]}\n",
    "model = XGBRegressor(learning_rate=0.03, n_estimators=48, max_depth=3, min_child_weight=1, \\\n",
    "                     gamma=0, subsample=0.8, colsample_bytree=0.8, objective='reg:linear', \\\n",
    "                     base_score=0.0107, seed=SEED)\n",
    "grid_4 = GridSearchCV(model, param_grid=param_test4, scoring='neg_mean_absolute_error', \\\n",
    "                      n_jobs=2, cv=5)\n",
    "grid_4.fit(X_train_2, y_train)\n",
    "\n",
    "print(grid_4.best_params_) \n",
    "print(grid_4.best_score_)"
   ]
  },
  {
   "cell_type": "code",
   "execution_count": 33,
   "metadata": {
    "collapsed": false
   },
   "outputs": [
    {
     "name": "stdout",
     "output_type": "stream",
     "text": [
      "{'reg_alpha': 0.1}\n",
      "-0.0528852704727\n"
     ]
    }
   ],
   "source": [
    "# tune regularization parameters\n",
    "param_test5 = {'reg_alpha': [1e-5, 1e-2, 0.1, 1, 100]}\n",
    "model = XGBRegressor(learning_rate=0.03, n_estimators=48, max_depth=3, min_child_weight=1, \\\n",
    "                     gamma=0, subsample=0.7, colsample_bytree=0.55, objective='reg:linear', \\\n",
    "                     base_score=0.0107, seed=SEED)\n",
    "grid_5 = GridSearchCV(model, param_grid=param_test5, scoring='neg_mean_absolute_error', \\\n",
    "                      n_jobs=2, cv=5)\n",
    "grid_5.fit(X_train_2, y_train)\n",
    "\n",
    "print(grid_5.best_params_) \n",
    "print(grid_5.best_score_)"
   ]
  },
  {
   "cell_type": "code",
   "execution_count": 35,
   "metadata": {
    "collapsed": false
   },
   "outputs": [
    {
     "name": "stdout",
     "output_type": "stream",
     "text": [
      "{'reg_alpha': 0.1}\n",
      "-0.0528852704727\n"
     ]
    }
   ],
   "source": [
    "# fine tune regularization parameters\n",
    "param_test6 = {'reg_alpha': [0.05, 0.1, 0.15]}\n",
    "model = XGBRegressor(learning_rate=0.03, n_estimators=48, max_depth=3, min_child_weight=1, \\\n",
    "                     gamma=0, subsample=0.7, colsample_bytree=0.55, objective='reg:linear', \\\n",
    "                     base_score=0.0107, seed=SEED)\n",
    "grid_6 = GridSearchCV(model, param_grid=param_test6, scoring='neg_mean_absolute_error', \\\n",
    "                      n_jobs=2, cv=5)\n",
    "grid_6.fit(X_train_2, y_train)\n",
    "\n",
    "print(grid_6.best_params_) \n",
    "print(grid_6.best_score_)"
   ]
  },
  {
   "cell_type": "code",
   "execution_count": 36,
   "metadata": {
    "collapsed": false
   },
   "outputs": [
    {
     "name": "stdout",
     "output_type": "stream",
     "text": [
      "\n",
      "Model Report\n",
      "Best Iteration: 58\n",
      "MAE : 0.05281\n"
     ]
    }
   ],
   "source": [
    "# check the impact of the tunning\n",
    "xgb3 = XGBRegressor(learning_rate =0.03,\n",
    "                    n_estimators=500,\n",
    "                    max_depth=3,\n",
    "                    min_child_weight=1,\n",
    "                    gamma=0,\n",
    "                    subsample=0.7,\n",
    "                    colsample_bytree=0.55,\n",
    "                    reg_alpha=0.1,\n",
    "                    objective='reg:linear',\n",
    "                    base_score=0.0107,\n",
    "                    seed=SEED)\n",
    "model_fit(xgb3, X_train_2, y_train)"
   ]
  },
  {
   "cell_type": "code",
   "execution_count": 37,
   "metadata": {
    "collapsed": false
   },
   "outputs": [
    {
     "name": "stdout",
     "output_type": "stream",
     "text": [
      "\n",
      "Model Report\n",
      "Best Iteration: 186\n",
      "MAE : 0.05281\n"
     ]
    }
   ],
   "source": [
    "# lower the learning rate and add more trees\n",
    "xgb4 = XGBRegressor(learning_rate =0.01,\n",
    "                    n_estimators=500,\n",
    "                    max_depth=3,\n",
    "                    min_child_weight=1,\n",
    "                    gamma=0,\n",
    "                    subsample=0.7,\n",
    "                    colsample_bytree=0.55,\n",
    "                    reg_alpha=0.1,\n",
    "                    objective='reg:linear',\n",
    "                    base_score=0.0107,\n",
    "                    seed=SEED)\n",
    "model_fit(xgb4, X_train_2, y_train)"
   ]
  },
  {
   "cell_type": "markdown",
   "metadata": {},
   "source": [
    "### 2.3 Test Score"
   ]
  },
  {
   "cell_type": "code",
   "execution_count": 53,
   "metadata": {
    "collapsed": false
   },
   "outputs": [
    {
     "name": "stdout",
     "output_type": "stream",
     "text": [
      "Mean Absolute Error (test): 0.06708028229370397\n"
     ]
    }
   ],
   "source": [
    "best_model = XGBRegressor(learning_rate=0.01, n_estimators=186, max_depth=3, \\\n",
    "                          min_child_weight=1, gamma=0, subsample=0.7, colsample_bytree=0.55, \\\n",
    "                          objective='reg:linear', reg_alpha=0.1, base_score=0.0107, seed=SEED)\n",
    "best_model.fit(X_train_2, y_train)\n",
    "pred = best_model.predict(X_test_2)\n",
    "print('Mean Absolute Error (test): {}'.format(mean_absolute_error(y_test, pred)))"
   ]
  },
  {
   "cell_type": "markdown",
   "metadata": {},
   "source": [
    "**THE END** "
   ]
  }
 ],
 "metadata": {
  "anaconda-cloud": {},
  "kernelspec": {
   "display_name": "Python [conda root]",
   "language": "python",
   "name": "conda-root-py"
  },
  "language_info": {
   "codemirror_mode": {
    "name": "ipython",
    "version": 3
   },
   "file_extension": ".py",
   "mimetype": "text/x-python",
   "name": "python",
   "nbconvert_exporter": "python",
   "pygments_lexer": "ipython3",
   "version": "3.5.2"
  }
 },
 "nbformat": 4,
 "nbformat_minor": 1
}
